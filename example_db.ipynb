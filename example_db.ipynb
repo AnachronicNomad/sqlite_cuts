{
 "cells": [
  {
   "cell_type": "code",
   "execution_count": 1,
   "metadata": {},
   "outputs": [],
   "source": [
    "# First, check if the DB file for this notebook exists and remove it. \n",
    "import os\n",
    "\n",
    "if os.path.exists('example.db'):\n",
    "    os.remove('example.db')"
   ]
  },
  {
   "cell_type": "code",
   "execution_count": 2,
   "metadata": {},
   "outputs": [],
   "source": [
    "import sqlite3\n",
    "from sqlalchemy import create_engine\n",
    "\n",
    "engine = create_engine('sqlite:///example.db', echo=True)"
   ]
  },
  {
   "cell_type": "markdown",
   "metadata": {},
   "source": [
    "For example, use a \"Declarative Base\" object to use an \"object-model\" approach.  We can defined Tables by themselves using SQLAlchemy, but we're not going to do that right now.  "
   ]
  },
  {
   "cell_type": "code",
   "execution_count": 3,
   "metadata": {},
   "outputs": [],
   "source": [
    "from sqlalchemy.ext.declarative import declarative_base\n",
    "Base = declarative_base()"
   ]
  },
  {
   "cell_type": "markdown",
   "metadata": {},
   "source": [
    "This uses the Declarative style to create a \"records\" object with the fields we want.  "
   ]
  },
  {
   "cell_type": "markdown",
   "metadata": {},
   "source": [
    "Please note that in the following definition, by keeping only one \"detector\" and one \"enabled\" field, we remove the ability for unique indexing on the SeriesNumber and EventNumber fields."
   ]
  },
  {
   "cell_type": "code",
   "execution_count": 4,
   "metadata": {},
   "outputs": [],
   "source": [
    "from sqlalchemy import Column, Integer, BigInteger, String, DateTime, Float, Boolean\n",
    "from sqlalchemy import Sequence\n",
    "\n",
    "class RecordModel(Base):\n",
    "    __tablename__ = 'records'\n",
    "    \n",
    "    recordID = Column(Integer, \n",
    "                      Sequence('record_id_seq'), \n",
    "                      primary_key=True)\n",
    "    SeriesNumber = Column(BigInteger, \n",
    "                          index=True, \n",
    "                          #unique=True, \n",
    "                          nullable=False)\n",
    "    EventNumber = Column(BigInteger,\n",
    "                         index=True,\n",
    "                         #unique=True,\n",
    "                         nullable=False)\n",
    "    DetNum = Column(Integer)\n",
    "    DetType = Column(Integer) \n",
    "    Enabled = Column(Boolean)\n",
    "    \n",
    "    \n",
    "    def __repr__(self):\n",
    "        return \"<Record(recordID='%s', SeriesNumber='%s', EventNumber=''%s')\" % (\n",
    "                    self.recordID, self.SeriesNumber, self.EventNumber)\n",
    "    \n",
    "        "
   ]
  },
  {
   "cell_type": "markdown",
   "metadata": {},
   "source": [
    "Using the declarative style automatically creates the indexed \"metadata schema\" for the database, which will speed up queries and make the database easily sharable.  "
   ]
  },
  {
   "cell_type": "code",
   "execution_count": 5,
   "metadata": {
    "scrolled": true
   },
   "outputs": [
    {
     "data": {
      "text/plain": [
       "Table('records', MetaData(bind=None), Column('recordID', Integer(), table=<records>, primary_key=True, nullable=False, default=Sequence('record_id_seq', metadata=MetaData(bind=None))), Column('SeriesNumber', BigInteger(), table=<records>, nullable=False), Column('EventNumber', BigInteger(), table=<records>, nullable=False), Column('DetNum', Integer(), table=<records>), Column('DetType', Integer(), table=<records>), Column('Enabled', Boolean(), table=<records>), schema=None)"
      ]
     },
     "execution_count": 5,
     "metadata": {},
     "output_type": "execute_result"
    }
   ],
   "source": [
    "RecordModel.__table__"
   ]
  },
  {
   "cell_type": "markdown",
   "metadata": {},
   "source": [
    "Now let's actually create the SQLite database:"
   ]
  },
  {
   "cell_type": "code",
   "execution_count": 6,
   "metadata": {
    "scrolled": true
   },
   "outputs": [
    {
     "name": "stdout",
     "output_type": "stream",
     "text": [
      "2020-06-12 12:46:18,592 INFO sqlalchemy.engine.base.Engine SELECT CAST('test plain returns' AS VARCHAR(60)) AS anon_1\n",
      "2020-06-12 12:46:18,594 INFO sqlalchemy.engine.base.Engine ()\n",
      "2020-06-12 12:46:18,598 INFO sqlalchemy.engine.base.Engine SELECT CAST('test unicode returns' AS VARCHAR(60)) AS anon_1\n",
      "2020-06-12 12:46:18,599 INFO sqlalchemy.engine.base.Engine ()\n",
      "2020-06-12 12:46:18,602 INFO sqlalchemy.engine.base.Engine PRAGMA main.table_info(\"records\")\n",
      "2020-06-12 12:46:18,603 INFO sqlalchemy.engine.base.Engine ()\n",
      "2020-06-12 12:46:18,605 INFO sqlalchemy.engine.base.Engine PRAGMA temp.table_info(\"records\")\n",
      "2020-06-12 12:46:18,607 INFO sqlalchemy.engine.base.Engine ()\n",
      "2020-06-12 12:46:18,611 INFO sqlalchemy.engine.base.Engine \n",
      "CREATE TABLE records (\n",
      "\t\"recordID\" INTEGER NOT NULL, \n",
      "\t\"SeriesNumber\" BIGINT NOT NULL, \n",
      "\t\"EventNumber\" BIGINT NOT NULL, \n",
      "\t\"DetNum\" INTEGER, \n",
      "\t\"DetType\" INTEGER, \n",
      "\t\"Enabled\" BOOLEAN, \n",
      "\tPRIMARY KEY (\"recordID\"), \n",
      "\tCHECK (\"Enabled\" IN (0, 1))\n",
      ")\n",
      "\n",
      "\n",
      "2020-06-12 12:46:18,612 INFO sqlalchemy.engine.base.Engine ()\n",
      "2020-06-12 12:46:18,627 INFO sqlalchemy.engine.base.Engine COMMIT\n",
      "2020-06-12 12:46:18,628 INFO sqlalchemy.engine.base.Engine CREATE INDEX \"ix_records_SeriesNumber\" ON records (\"SeriesNumber\")\n",
      "2020-06-12 12:46:18,629 INFO sqlalchemy.engine.base.Engine ()\n",
      "2020-06-12 12:46:18,643 INFO sqlalchemy.engine.base.Engine COMMIT\n",
      "2020-06-12 12:46:18,645 INFO sqlalchemy.engine.base.Engine CREATE INDEX \"ix_records_EventNumber\" ON records (\"EventNumber\")\n",
      "2020-06-12 12:46:18,646 INFO sqlalchemy.engine.base.Engine ()\n",
      "2020-06-12 12:46:18,660 INFO sqlalchemy.engine.base.Engine COMMIT\n"
     ]
    }
   ],
   "source": [
    "Base.metadata.create_all(engine)"
   ]
  },
  {
   "cell_type": "markdown",
   "metadata": {},
   "source": [
    "Let's create some example entries, and insert them in the database."
   ]
  },
  {
   "cell_type": "code",
   "execution_count": 7,
   "metadata": {},
   "outputs": [],
   "source": [
    "from sqlalchemy.orm import sessionmaker\n",
    "\n",
    "# Use a 'factory' for creating a connection to our database.\n",
    "Session = sessionmaker(bind=engine)\n",
    "\n",
    "# Create actual session object we will use to interact with DB\n",
    "session = Session()"
   ]
  },
  {
   "cell_type": "code",
   "execution_count": 8,
   "metadata": {},
   "outputs": [
    {
     "name": "stdout",
     "output_type": "stream",
     "text": [
      "CPU times: user 8.71 s, sys: 203 ms, total: 8.92 s\n",
      "Wall time: 8.97 s\n"
     ]
    }
   ],
   "source": [
    "%%time\n",
    "# Create some example records\n",
    "import random\n",
    "import numpy as np\n",
    "\n",
    "before_commit = []\n",
    "\n",
    "for i in range(0,8500):   \n",
    "    for j in range(0, 35):\n",
    "        _enable = random.choice([True, False])\n",
    "        new_record = RecordModel(SeriesNumber=1005,\n",
    "                                 EventNumber=500+i,\n",
    "                                 DetNum=j,\n",
    "                                 DetType=int(j%10),\n",
    "                                 Enabled=_enable)\n",
    "        before_commit.append(new_record)\n",
    "    \n"
   ]
  },
  {
   "cell_type": "code",
   "execution_count": 9,
   "metadata": {},
   "outputs": [
    {
     "name": "stdout",
     "output_type": "stream",
     "text": [
      "297500\n"
     ]
    }
   ],
   "source": [
    "# how many objects?\n",
    "\n",
    "print(len(before_commit))"
   ]
  },
  {
   "cell_type": "code",
   "execution_count": 10,
   "metadata": {
    "scrolled": false
   },
   "outputs": [
    {
     "name": "stdout",
     "output_type": "stream",
     "text": [
      "2020-06-12 12:46:28,273 INFO sqlalchemy.engine.base.Engine BEGIN (implicit)\n",
      "2020-06-12 12:46:30,824 INFO sqlalchemy.engine.base.Engine INSERT INTO records (\"SeriesNumber\", \"EventNumber\", \"DetNum\", \"DetType\", \"Enabled\") VALUES (?, ?, ?, ?, ?)\n",
      "2020-06-12 12:46:30,824 INFO sqlalchemy.engine.base.Engine ((1005, 500, 0, 0, 1), (1005, 500, 1, 1, 0), (1005, 500, 2, 2, 1), (1005, 500, 3, 3, 0), (1005, 500, 4, 4, 0), (1005, 500, 5, 5, 0), (1005, 500, 6, 6, 1), (1005, 500, 7, 7, 1)  ... displaying 10 of 297500 total bound parameter sets ...  (1005, 8999, 33, 3, 1), (1005, 8999, 34, 4, 0))\n",
      "2020-06-12 12:46:31,838 INFO sqlalchemy.engine.base.Engine COMMIT\n",
      "CPU times: user 3.96 s, sys: 160 ms, total: 4.12 s\n",
      "Wall time: 4.21 s\n"
     ]
    }
   ],
   "source": [
    "%%time\n",
    "# Add them to the session and save session to DB, aka \"Database Transaction\"\n",
    "\n",
    "session.bulk_save_objects(before_commit)\n",
    "session.commit()"
   ]
  },
  {
   "cell_type": "markdown",
   "metadata": {},
   "source": [
    "What's our resulting filesize? (n.b. Size is in \"MebiBytes\" [MiB])."
   ]
  },
  {
   "cell_type": "code",
   "execution_count": 11,
   "metadata": {},
   "outputs": [
    {
     "name": "stdout",
     "output_type": "stream",
     "text": [
      "DB Size is  12.437834956800002  [MiB]\n"
     ]
    }
   ],
   "source": [
    "import os\n",
    "\n",
    "bytecount = os.stat('example.db').st_size\n",
    "print(\"DB Size is \", (bytecount * (9.537E-7)), \" [MiB]\")"
   ]
  },
  {
   "cell_type": "code",
   "execution_count": 21,
   "metadata": {},
   "outputs": [
    {
     "name": "stdout",
     "output_type": "stream",
     "text": [
      "2020-06-12 13:01:21,388 INFO sqlalchemy.engine.base.Engine SELECT records.\"recordID\" AS \"records_recordID\", records.\"SeriesNumber\" AS \"records_SeriesNumber\", records.\"EventNumber\" AS \"records_EventNumber\", records.\"DetNum\" AS \"records_DetNum\", records.\"DetType\" AS \"records_DetType\", records.\"Enabled\" AS \"records_Enabled\" \n",
      "FROM records \n",
      "WHERE records.\"SeriesNumber\" = ? AND records.\"EventNumber\" = ? ORDER BY records.\"DetNum\"\n",
      "2020-06-12 13:01:21,390 INFO sqlalchemy.engine.base.Engine (1005, 5200)\n"
     ]
    },
    {
     "data": {
      "text/plain": [
       "array([False,  True, False, False,  True, False,  True, False, False,\n",
       "       False,  True, False,  True,  True, False, False, False, False,\n",
       "       False, False, False, False, False, False, False, False,  True,\n",
       "       False, False,  True, False, False, False,  True, False])"
      ]
     },
     "execution_count": 21,
     "metadata": {},
     "output_type": "execute_result"
    }
   ],
   "source": [
    "# Now I want to form the Pass/Cut True/False array for one particular series+event\n",
    "\n",
    "target_series = 1005\n",
    "target_event = (4700)+500\n",
    "\n",
    "eval_query = session.query(RecordModel).order_by(RecordModel.DetNum).\\\n",
    "                filter(RecordModel.SeriesNumber == target_series).\\\n",
    "                filter(RecordModel.EventNumber == target_event)\n",
    "\n",
    "pass_cuts = np.array([record.Enabled for record in eval_query], dtype=bool)\n",
    "    \n",
    "pass_cuts"
   ]
  },
  {
   "cell_type": "code",
   "execution_count": 23,
   "metadata": {},
   "outputs": [
    {
     "name": "stdout",
     "output_type": "stream",
     "text": [
      "2020-06-12 13:02:03,076 INFO sqlalchemy.engine.base.Engine SELECT records.\"recordID\" AS \"records_recordID\", records.\"SeriesNumber\" AS \"records_SeriesNumber\", records.\"EventNumber\" AS \"records_EventNumber\", records.\"DetNum\" AS \"records_DetNum\", records.\"DetType\" AS \"records_DetType\", records.\"Enabled\" AS \"records_Enabled\" \n",
      "FROM records \n",
      "WHERE records.\"SeriesNumber\" = ? AND records.\"EventNumber\" = ? ORDER BY records.\"DetNum\"\n",
      "2020-06-12 13:02:03,078 INFO sqlalchemy.engine.base.Engine (1005, 5200)\n"
     ]
    },
    {
     "data": {
      "text/plain": [
       "array([0, 1, 2, 3, 4, 5, 6, 7, 8, 9, 0, 1, 2, 3, 4, 5, 6, 7, 8, 9, 0, 1,\n",
       "       2, 3, 4, 5, 6, 7, 8, 9, 0, 1, 2, 3, 4], dtype=int32)"
      ]
     },
     "execution_count": 23,
     "metadata": {},
     "output_type": "execute_result"
    }
   ],
   "source": [
    "cuts_dettype = np.array([record.DetType for record in eval_query], dtype=np.int32)\n",
    "\n",
    "cuts_dettype"
   ]
  },
  {
   "cell_type": "markdown",
   "metadata": {},
   "source": [
    "## do it from scratch"
   ]
  },
  {
   "cell_type": "code",
   "execution_count": 4,
   "metadata": {},
   "outputs": [
    {
     "name": "stdout",
     "output_type": "stream",
     "text": [
      "2020-06-12 14:50:28,560 INFO sqlalchemy.engine.base.Engine SELECT CAST('test plain returns' AS VARCHAR(60)) AS anon_1\n",
      "2020-06-12 14:50:28,561 INFO sqlalchemy.engine.base.Engine ()\n",
      "2020-06-12 14:50:28,563 INFO sqlalchemy.engine.base.Engine SELECT CAST('test unicode returns' AS VARCHAR(60)) AS anon_1\n",
      "2020-06-12 14:50:28,564 INFO sqlalchemy.engine.base.Engine ()\n",
      "2020-06-12 14:50:28,566 INFO sqlalchemy.engine.base.Engine SELECT name FROM sqlite_master WHERE type='table' ORDER BY name\n",
      "2020-06-12 14:50:28,567 INFO sqlalchemy.engine.base.Engine ()\n",
      "2020-06-12 14:50:28,570 INFO sqlalchemy.engine.base.Engine PRAGMA main.table_info(\"records\")\n",
      "2020-06-12 14:50:28,571 INFO sqlalchemy.engine.base.Engine ()\n",
      "2020-06-12 14:50:28,575 INFO sqlalchemy.engine.base.Engine SELECT sql FROM  (SELECT * FROM sqlite_master UNION ALL   SELECT * FROM sqlite_temp_master) WHERE name = 'records' AND type = 'table'\n",
      "2020-06-12 14:50:28,576 INFO sqlalchemy.engine.base.Engine ()\n",
      "2020-06-12 14:50:28,579 INFO sqlalchemy.engine.base.Engine PRAGMA main.foreign_key_list(\"records\")\n",
      "2020-06-12 14:50:28,580 INFO sqlalchemy.engine.base.Engine ()\n",
      "2020-06-12 14:50:28,581 INFO sqlalchemy.engine.base.Engine PRAGMA temp.foreign_key_list(\"records\")\n",
      "2020-06-12 14:50:28,582 INFO sqlalchemy.engine.base.Engine ()\n",
      "2020-06-12 14:50:28,583 INFO sqlalchemy.engine.base.Engine SELECT sql FROM  (SELECT * FROM sqlite_master UNION ALL   SELECT * FROM sqlite_temp_master) WHERE name = 'records' AND type = 'table'\n",
      "2020-06-12 14:50:28,586 INFO sqlalchemy.engine.base.Engine ()\n",
      "2020-06-12 14:50:28,588 INFO sqlalchemy.engine.base.Engine PRAGMA main.index_list(\"records\")\n",
      "2020-06-12 14:50:28,588 INFO sqlalchemy.engine.base.Engine ()\n",
      "2020-06-12 14:50:28,590 INFO sqlalchemy.engine.base.Engine PRAGMA main.index_info(\"ix_records_EventNumber\")\n",
      "2020-06-12 14:50:28,590 INFO sqlalchemy.engine.base.Engine ()\n",
      "2020-06-12 14:50:28,592 INFO sqlalchemy.engine.base.Engine PRAGMA main.index_info(\"ix_records_SeriesNumber\")\n",
      "2020-06-12 14:50:28,593 INFO sqlalchemy.engine.base.Engine ()\n",
      "2020-06-12 14:50:28,594 INFO sqlalchemy.engine.base.Engine PRAGMA main.index_list(\"records\")\n",
      "2020-06-12 14:50:28,596 INFO sqlalchemy.engine.base.Engine ()\n",
      "2020-06-12 14:50:28,597 INFO sqlalchemy.engine.base.Engine PRAGMA main.index_info(\"ix_records_EventNumber\")\n",
      "2020-06-12 14:50:28,598 INFO sqlalchemy.engine.base.Engine ()\n",
      "2020-06-12 14:50:28,599 INFO sqlalchemy.engine.base.Engine PRAGMA main.index_info(\"ix_records_SeriesNumber\")\n",
      "2020-06-12 14:50:28,602 INFO sqlalchemy.engine.base.Engine ()\n",
      "2020-06-12 14:50:28,605 INFO sqlalchemy.engine.base.Engine SELECT sql FROM  (SELECT * FROM sqlite_master UNION ALL   SELECT * FROM sqlite_temp_master) WHERE name = 'records' AND type = 'table'\n",
      "2020-06-12 14:50:28,608 INFO sqlalchemy.engine.base.Engine ()\n",
      "2020-06-12 14:50:28,619 INFO sqlalchemy.engine.base.Engine BEGIN (implicit)\n",
      "2020-06-12 14:50:28,622 INFO sqlalchemy.engine.base.Engine SELECT records.\"recordID\" AS \"records_recordID\", records.\"SeriesNumber\" AS \"records_SeriesNumber\", records.\"EventNumber\" AS \"records_EventNumber\", records.\"DetNum\" AS \"records_DetNum\", records.\"DetType\" AS \"records_DetType\", records.\"Enabled\" AS \"records_Enabled\" \n",
      "FROM records \n",
      "WHERE records.\"SeriesNumber\" = ? AND records.\"EventNumber\" = ? ORDER BY records.\"DetNum\"\n",
      "2020-06-12 14:50:28,623 INFO sqlalchemy.engine.base.Engine (1005, 5200)\n"
     ]
    },
    {
     "data": {
      "text/plain": [
       "array([False,  True, False, False,  True, False,  True, False, False,\n",
       "       False,  True, False,  True,  True, False, False, False, False,\n",
       "       False, False, False, False, False, False, False, False,  True,\n",
       "       False, False,  True, False, False, False,  True, False])"
      ]
     },
     "execution_count": 4,
     "metadata": {},
     "output_type": "execute_result"
    }
   ],
   "source": [
    "## Set up the basics\n",
    "from sqlalchemy import create_engine\n",
    "from sqlalchemy.orm import sessionmaker\n",
    "\n",
    "new_connection = create_engine('sqlite:///example.db', echo=True)\n",
    "\n",
    "# Use a 'factory' for creating a connection to our database.\n",
    "Session = sessionmaker(bind=new_connection)\n",
    "\n",
    "# Create actual session object we will use to interact with DB\n",
    "new_session = Session()\n",
    "\n",
    "## Automap schema from the database itself\n",
    "from sqlalchemy.ext.automap import automap_base\n",
    "from sqlalchemy.orm import Session\n",
    "\n",
    "Base = automap_base()\n",
    "Base.prepare(new_connection, reflect=True)\n",
    "\n",
    "RecordModel = Base.classes.records\n",
    "\n",
    "## And query\n",
    "import numpy as np\n",
    "\n",
    "target_series = 1005\n",
    "target_event = (4700)+500\n",
    "\n",
    "eval_query = new_session.query(RecordModel).order_by(RecordModel.DetNum).\\\n",
    "                filter(RecordModel.SeriesNumber == target_series).\\\n",
    "                filter(RecordModel.EventNumber == target_event)\n",
    "\n",
    "pass_cuts = np.array([record.Enabled for record in eval_query], dtype=bool)\n",
    "    \n",
    "pass_cuts"
   ]
  },
  {
   "cell_type": "code",
   "execution_count": null,
   "metadata": {},
   "outputs": [],
   "source": []
  }
 ],
 "metadata": {
  "kernelspec": {
   "display_name": "Python 3",
   "language": "python",
   "name": "python3"
  },
  "language_info": {
   "codemirror_mode": {
    "name": "ipython",
    "version": 3
   },
   "file_extension": ".py",
   "mimetype": "text/x-python",
   "name": "python",
   "nbconvert_exporter": "python",
   "pygments_lexer": "ipython3",
   "version": "3.8.3"
  }
 },
 "nbformat": 4,
 "nbformat_minor": 4
}
