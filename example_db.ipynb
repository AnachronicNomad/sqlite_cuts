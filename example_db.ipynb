{
 "cells": [
  {
   "cell_type": "code",
   "execution_count": 1,
   "metadata": {},
   "outputs": [],
   "source": [
    "# First, check if the DB file for this notebook exists and remove it. \n",
    "import os\n",
    "\n",
    "if os.path.exists('example.db'):\n",
    "    os.remove('example.db')"
   ]
  },
  {
   "cell_type": "code",
   "execution_count": 2,
   "metadata": {},
   "outputs": [],
   "source": [
    "import sqlite3\n",
    "from sqlalchemy import create_engine\n",
    "\n",
    "engine = create_engine('sqlite:///example.db', echo=True)"
   ]
  },
  {
   "cell_type": "markdown",
   "metadata": {},
   "source": [
    "For example, use a \"Declarative Base\" object to use an \"object-model\" approach.  We can defined Tables by themselves using SQLAlchemy, but we're not going to do that right now.  "
   ]
  },
  {
   "cell_type": "code",
   "execution_count": 3,
   "metadata": {},
   "outputs": [],
   "source": [
    "from sqlalchemy.ext.declarative import declarative_base\n",
    "Base = declarative_base()"
   ]
  },
  {
   "cell_type": "markdown",
   "metadata": {},
   "source": [
    "This uses the Declarative style to create a \"records\" object with the fields we want.  "
   ]
  },
  {
   "cell_type": "markdown",
   "metadata": {},
   "source": [
    "Please note that in the following definition, by keeping only one \"detector\" and one \"enabled\" field, we remove the ability for unique indexing on the SeriesNumber and EventNumber fields."
   ]
  },
  {
   "cell_type": "code",
   "execution_count": 4,
   "metadata": {},
   "outputs": [],
   "source": [
    "from sqlalchemy import Column, Integer, BigInteger, String, DateTime, Float, Boolean\n",
    "from sqlalchemy import Sequence\n",
    "\n",
    "class RecordModel(Base):\n",
    "    __tablename__ = 'records'\n",
    "    \n",
    "    recordID = Column(Integer, \n",
    "                      Sequence('record_id_seq'), \n",
    "                      primary_key=True)\n",
    "    SeriesNumber = Column(BigInteger, \n",
    "                          index=True, \n",
    "                          #unique=True, \n",
    "                          nullable=False)\n",
    "    EventNumber = Column(BigInteger,\n",
    "                         index=True,\n",
    "                         #unique=True,\n",
    "                         nullable=False)\n",
    "    DetNum = Column(Integer)\n",
    "    DetType = Column(Integer) \n",
    "    Enabled = Column(Boolean)\n",
    "    \n",
    "    \n",
    "    def __repr__(self):\n",
    "        return \"<Record(recordID='%s', SeriesNumber='%s', EventNumber=''%s')\" % (\n",
    "                    self.recordID, self.SeriesNumber, self.EventNumber)\n",
    "    \n",
    "        "
   ]
  },
  {
   "cell_type": "markdown",
   "metadata": {},
   "source": [
    "Using the declarative style automatically creates the indexed \"metadata schema\" for the database, which will speed up queries and make the database easily sharable.  "
   ]
  },
  {
   "cell_type": "code",
   "execution_count": 5,
   "metadata": {
    "scrolled": true
   },
   "outputs": [
    {
     "data": {
      "text/plain": [
       "Table('records', MetaData(bind=None), Column('recordID', Integer(), table=<records>, primary_key=True, nullable=False, default=Sequence('record_id_seq', metadata=MetaData(bind=None))), Column('SeriesNumber', BigInteger(), table=<records>, nullable=False), Column('EventNumber', BigInteger(), table=<records>, nullable=False), Column('DetNum', Integer(), table=<records>), Column('DetType', Integer(), table=<records>), Column('Enabled', Boolean(), table=<records>), schema=None)"
      ]
     },
     "execution_count": 5,
     "metadata": {},
     "output_type": "execute_result"
    }
   ],
   "source": [
    "RecordModel.__table__"
   ]
  },
  {
   "cell_type": "markdown",
   "metadata": {},
   "source": [
    "Now let's actually create the SQLite database:"
   ]
  },
  {
   "cell_type": "code",
   "execution_count": 6,
   "metadata": {
    "scrolled": true
   },
   "outputs": [
    {
     "name": "stdout",
     "output_type": "stream",
     "text": [
      "2020-06-08 19:36:31,128 INFO sqlalchemy.engine.base.Engine SELECT CAST('test plain returns' AS VARCHAR(60)) AS anon_1\n",
      "2020-06-08 19:36:31,129 INFO sqlalchemy.engine.base.Engine ()\n",
      "2020-06-08 19:36:31,129 INFO sqlalchemy.engine.base.Engine SELECT CAST('test unicode returns' AS VARCHAR(60)) AS anon_1\n",
      "2020-06-08 19:36:31,130 INFO sqlalchemy.engine.base.Engine ()\n",
      "2020-06-08 19:36:31,131 INFO sqlalchemy.engine.base.Engine PRAGMA main.table_info(\"records\")\n",
      "2020-06-08 19:36:31,132 INFO sqlalchemy.engine.base.Engine ()\n",
      "2020-06-08 19:36:31,133 INFO sqlalchemy.engine.base.Engine PRAGMA temp.table_info(\"records\")\n",
      "2020-06-08 19:36:31,133 INFO sqlalchemy.engine.base.Engine ()\n",
      "2020-06-08 19:36:31,135 INFO sqlalchemy.engine.base.Engine \n",
      "CREATE TABLE records (\n",
      "\t\"recordID\" INTEGER NOT NULL, \n",
      "\t\"SeriesNumber\" BIGINT NOT NULL, \n",
      "\t\"EventNumber\" BIGINT NOT NULL, \n",
      "\t\"DetNum\" INTEGER, \n",
      "\t\"DetType\" INTEGER, \n",
      "\t\"Enabled\" BOOLEAN, \n",
      "\tPRIMARY KEY (\"recordID\"), \n",
      "\tCHECK (\"Enabled\" IN (0, 1))\n",
      ")\n",
      "\n",
      "\n",
      "2020-06-08 19:36:31,136 INFO sqlalchemy.engine.base.Engine ()\n",
      "2020-06-08 19:36:31,146 INFO sqlalchemy.engine.base.Engine COMMIT\n",
      "2020-06-08 19:36:31,147 INFO sqlalchemy.engine.base.Engine CREATE INDEX \"ix_records_SeriesNumber\" ON records (\"SeriesNumber\")\n",
      "2020-06-08 19:36:31,147 INFO sqlalchemy.engine.base.Engine ()\n",
      "2020-06-08 19:36:31,158 INFO sqlalchemy.engine.base.Engine COMMIT\n",
      "2020-06-08 19:36:31,159 INFO sqlalchemy.engine.base.Engine CREATE INDEX \"ix_records_EventNumber\" ON records (\"EventNumber\")\n",
      "2020-06-08 19:36:31,160 INFO sqlalchemy.engine.base.Engine ()\n",
      "2020-06-08 19:36:31,169 INFO sqlalchemy.engine.base.Engine COMMIT\n"
     ]
    }
   ],
   "source": [
    "Base.metadata.create_all(engine)"
   ]
  },
  {
   "cell_type": "markdown",
   "metadata": {},
   "source": [
    "Let's create some example entries, and insert them in the database."
   ]
  },
  {
   "cell_type": "code",
   "execution_count": 7,
   "metadata": {},
   "outputs": [],
   "source": [
    "from sqlalchemy.orm import sessionmaker\n",
    "\n",
    "# Use a 'factory' for creating a connection to our database.\n",
    "Session = sessionmaker(bind=engine)\n",
    "\n",
    "# Create actual session object we will use to interact with DB\n",
    "session = Session()"
   ]
  },
  {
   "cell_type": "code",
   "execution_count": 8,
   "metadata": {},
   "outputs": [
    {
     "name": "stdout",
     "output_type": "stream",
     "text": [
      "CPU times: user 8.58 s, sys: 235 ms, total: 8.81 s\n",
      "Wall time: 8.83 s\n"
     ]
    }
   ],
   "source": [
    "%%time\n",
    "# Create some example records\n",
    "import random\n",
    "import numpy as np\n",
    "\n",
    "before_commit = []\n",
    "\n",
    "for i in range(0,8500):   \n",
    "    for j in range(0, 35):\n",
    "        _enable = random.choice([True, False])\n",
    "        new_record = RecordModel(SeriesNumber=1005,\n",
    "                                 EventNumber=500+i,\n",
    "                                 DetNum=j,\n",
    "                                 DetType=int(j%10),\n",
    "                                 Enabled=_enable)\n",
    "        before_commit.append(new_record)\n",
    "    \n"
   ]
  },
  {
   "cell_type": "code",
   "execution_count": 11,
   "metadata": {},
   "outputs": [
    {
     "name": "stdout",
     "output_type": "stream",
     "text": [
      "297500\n"
     ]
    }
   ],
   "source": [
    "# how many objects?\n",
    "\n",
    "print(len(before_commit))"
   ]
  },
  {
   "cell_type": "code",
   "execution_count": 9,
   "metadata": {
    "scrolled": false
   },
   "outputs": [
    {
     "name": "stdout",
     "output_type": "stream",
     "text": [
      "2020-06-08 19:36:40,334 INFO sqlalchemy.engine.base.Engine BEGIN (implicit)\n",
      "2020-06-08 19:36:42,004 INFO sqlalchemy.engine.base.Engine INSERT INTO records (\"SeriesNumber\", \"EventNumber\", \"DetNum\", \"DetType\", \"Enabled\") VALUES (?, ?, ?, ?, ?)\n",
      "2020-06-08 19:36:42,004 INFO sqlalchemy.engine.base.Engine ((1005, 500, 0, 0, 1), (1005, 500, 1, 1, 1), (1005, 500, 2, 2, 0), (1005, 500, 3, 3, 1), (1005, 500, 4, 4, 0), (1005, 500, 5, 5, 0), (1005, 500, 6, 6, 0), (1005, 500, 7, 7, 0)  ... displaying 10 of 297500 total bound parameter sets ...  (1005, 8999, 33, 3, 0), (1005, 8999, 34, 4, 1))\n",
      "2020-06-08 19:36:42,997 INFO sqlalchemy.engine.base.Engine COMMIT\n",
      "CPU times: user 2.87 s, sys: 108 ms, total: 2.98 s\n",
      "Wall time: 3.03 s\n"
     ]
    }
   ],
   "source": [
    "%%time\n",
    "# Add them to the session and save session to DB, aka \"Database Transaction\"\n",
    "\n",
    "session.bulk_save_objects(before_commit)\n",
    "session.commit()"
   ]
  },
  {
   "cell_type": "markdown",
   "metadata": {},
   "source": [
    "What's our resulting filesize? (n.b. Size is in \"MebiBytes\" [MiB])."
   ]
  },
  {
   "cell_type": "code",
   "execution_count": 10,
   "metadata": {},
   "outputs": [
    {
     "name": "stdout",
     "output_type": "stream",
     "text": [
      "DB Size is  12.437834956800002  [MiB]\n"
     ]
    }
   ],
   "source": [
    "import os\n",
    "\n",
    "bytecount = os.stat('example.db').st_size\n",
    "print(\"DB Size is \", (bytecount * (9.537E-7)), \" [MiB]\")"
   ]
  },
  {
   "cell_type": "markdown",
   "metadata": {},
   "source": [
    "Now, let's close the session and disconnect the engine."
   ]
  },
  {
   "cell_type": "markdown",
   "metadata": {},
   "source": [
    "Now, we will reconnect to the database file with a proper session, perform a query to load some records, and store in a pandas dataframe. "
   ]
  }
 ],
 "metadata": {
  "kernelspec": {
   "display_name": "Python 3",
   "language": "python",
   "name": "python3"
  },
  "language_info": {
   "codemirror_mode": {
    "name": "ipython",
    "version": 3
   },
   "file_extension": ".py",
   "mimetype": "text/x-python",
   "name": "python",
   "nbconvert_exporter": "python",
   "pygments_lexer": "ipython3",
   "version": "3.8.3"
  }
 },
 "nbformat": 4,
 "nbformat_minor": 4
}
