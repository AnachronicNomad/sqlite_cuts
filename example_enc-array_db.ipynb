{
 "cells": [
  {
   "cell_type": "code",
   "execution_count": 1,
   "metadata": {},
   "outputs": [],
   "source": [
    "# First, check if the DB file for this notebook exists and remove it. \n",
    "import os\n",
    "\n",
    "if os.path.exists('example_enc-arr.db'):\n",
    "    os.remove('example_enc-arr.db')"
   ]
  },
  {
   "cell_type": "code",
   "execution_count": 2,
   "metadata": {},
   "outputs": [],
   "source": [
    "import sqlite3\n",
    "from sqlalchemy import create_engine\n",
    "\n",
    "engine = create_engine('sqlite:///example_enc-arr.db', echo=True)"
   ]
  },
  {
   "cell_type": "markdown",
   "metadata": {},
   "source": [
    "For example, use a \"Declarative Base\" object to use an \"object-model\" approach.  We can defined Tables by themselves using SQLAlchemy, but we're not going to do that right now.  "
   ]
  },
  {
   "cell_type": "code",
   "execution_count": 3,
   "metadata": {},
   "outputs": [],
   "source": [
    "from sqlalchemy.ext.declarative import declarative_base\n",
    "Base = declarative_base()"
   ]
  },
  {
   "cell_type": "markdown",
   "metadata": {},
   "source": [
    "This uses the Declarative style to create a \"records\" object with the fields we want.  \n",
    "\n",
    "Alternative styles are available, I don't know at this time which is most relevant to cover or if an alternative style would be more useful. "
   ]
  },
  {
   "cell_type": "markdown",
   "metadata": {},
   "source": [
    "The Datatypes can be chosen by the SQLite \"dialect\" and its specification, as per [here](https://docs.sqlalchemy.org/en/13/dialects/sqlite.html#sqlite-data-types). (see commented import lines at top of cell)."
   ]
  },
  {
   "cell_type": "code",
   "execution_count": 4,
   "metadata": {},
   "outputs": [],
   "source": [
    "from sqlalchemy import Column\n",
    "from sqlalchemy.types import Integer, BigInteger, Boolean, BLOB\n",
    "\n",
    "## If we wanted to be super specific on SQLite datatypes...\n",
    "#from sqlalchemy.dialects.sqlite import INTEGER, BOOLEAN, SMALLINT, BLOB\n",
    "\n",
    "class RecordModel(Base):\n",
    "    __tablename__ = 'records'\n",
    "    \n",
    "    recordID = Column(Integer,\n",
    "                      primary_key=True)\n",
    "    \n",
    "    SeriesNumber = Column(BigInteger, \n",
    "                          index=True, \n",
    "                          #unique=True, \n",
    "                          nullable=False)\n",
    "    \n",
    "    EventNumber = Column(BigInteger,\n",
    "                         index=True,\n",
    "                         unique=True,\n",
    "                         nullable=False)\n",
    "    \n",
    "    NDetectors = Column(Integer,\n",
    "                        nullable=False)\n",
    "    \n",
    "    DetNum = Column(BLOB)\n",
    "    DetType = Column(BLOB)\n",
    "    Enable = Column(BLOB)\n",
    "    \n",
    "    \n",
    "    def __repr__(self):\n",
    "        return \"<Record(recordID='%s', SeriesNumber='%s', EventNumber=''%s')\" % (\n",
    "                    self.recordID, self.SeriesNumber, self.EventNumber)\n",
    "    \n",
    "        "
   ]
  },
  {
   "cell_type": "markdown",
   "metadata": {},
   "source": [
    "Using the declarative style automatically creates the indexed \"metadata schema\" for the database, which will speed up queries and make the database easily sharable.  "
   ]
  },
  {
   "cell_type": "code",
   "execution_count": 5,
   "metadata": {
    "scrolled": true
   },
   "outputs": [
    {
     "data": {
      "text/plain": [
       "Table('records', MetaData(bind=None), Column('recordID', Integer(), table=<records>, primary_key=True, nullable=False), Column('SeriesNumber', BigInteger(), table=<records>, nullable=False), Column('EventNumber', BigInteger(), table=<records>, nullable=False), Column('NDetectors', Integer(), table=<records>, nullable=False), Column('DetNum', BLOB(), table=<records>), Column('DetType', BLOB(), table=<records>), Column('Enable', BLOB(), table=<records>), schema=None)"
      ]
     },
     "execution_count": 5,
     "metadata": {},
     "output_type": "execute_result"
    }
   ],
   "source": [
    "RecordModel.__table__"
   ]
  },
  {
   "cell_type": "markdown",
   "metadata": {},
   "source": [
    "Now let's actually create the SQLite database:"
   ]
  },
  {
   "cell_type": "code",
   "execution_count": 6,
   "metadata": {
    "scrolled": true
   },
   "outputs": [
    {
     "name": "stdout",
     "output_type": "stream",
     "text": [
      "2020-06-08 21:48:40,745 INFO sqlalchemy.engine.base.Engine SELECT CAST('test plain returns' AS VARCHAR(60)) AS anon_1\n",
      "2020-06-08 21:48:40,747 INFO sqlalchemy.engine.base.Engine ()\n",
      "2020-06-08 21:48:40,750 INFO sqlalchemy.engine.base.Engine SELECT CAST('test unicode returns' AS VARCHAR(60)) AS anon_1\n",
      "2020-06-08 21:48:40,751 INFO sqlalchemy.engine.base.Engine ()\n",
      "2020-06-08 21:48:40,752 INFO sqlalchemy.engine.base.Engine PRAGMA main.table_info(\"records\")\n",
      "2020-06-08 21:48:40,753 INFO sqlalchemy.engine.base.Engine ()\n",
      "2020-06-08 21:48:40,753 INFO sqlalchemy.engine.base.Engine PRAGMA temp.table_info(\"records\")\n",
      "2020-06-08 21:48:40,754 INFO sqlalchemy.engine.base.Engine ()\n",
      "2020-06-08 21:48:40,756 INFO sqlalchemy.engine.base.Engine \n",
      "CREATE TABLE records (\n",
      "\t\"recordID\" INTEGER NOT NULL, \n",
      "\t\"SeriesNumber\" BIGINT NOT NULL, \n",
      "\t\"EventNumber\" BIGINT NOT NULL, \n",
      "\t\"NDetectors\" INTEGER NOT NULL, \n",
      "\t\"DetNum\" BLOB, \n",
      "\t\"DetType\" BLOB, \n",
      "\t\"Enable\" BLOB, \n",
      "\tPRIMARY KEY (\"recordID\")\n",
      ")\n",
      "\n",
      "\n",
      "2020-06-08 21:48:40,757 INFO sqlalchemy.engine.base.Engine ()\n",
      "2020-06-08 21:48:40,770 INFO sqlalchemy.engine.base.Engine COMMIT\n",
      "2020-06-08 21:48:40,771 INFO sqlalchemy.engine.base.Engine CREATE INDEX \"ix_records_SeriesNumber\" ON records (\"SeriesNumber\")\n",
      "2020-06-08 21:48:40,771 INFO sqlalchemy.engine.base.Engine ()\n",
      "2020-06-08 21:48:40,784 INFO sqlalchemy.engine.base.Engine COMMIT\n",
      "2020-06-08 21:48:40,785 INFO sqlalchemy.engine.base.Engine CREATE UNIQUE INDEX \"ix_records_EventNumber\" ON records (\"EventNumber\")\n",
      "2020-06-08 21:48:40,786 INFO sqlalchemy.engine.base.Engine ()\n",
      "2020-06-08 21:48:40,799 INFO sqlalchemy.engine.base.Engine COMMIT\n",
      "CPU times: user 26.6 ms, sys: 800 µs, total: 27.4 ms\n",
      "Wall time: 56.4 ms\n"
     ]
    }
   ],
   "source": [
    "%%time\n",
    "Base.metadata.create_all(engine)"
   ]
  },
  {
   "cell_type": "markdown",
   "metadata": {},
   "source": [
    "Let's create some example entries, and insert them in the database."
   ]
  },
  {
   "cell_type": "code",
   "execution_count": 7,
   "metadata": {},
   "outputs": [],
   "source": [
    "from sqlalchemy.orm import sessionmaker\n",
    "\n",
    "# Use a 'factory' for creating a connection to our database.\n",
    "Session = sessionmaker(bind=engine)\n",
    "\n",
    "# Create actual session object we will use to interact with DB\n",
    "session = Session()"
   ]
  },
  {
   "cell_type": "code",
   "execution_count": 8,
   "metadata": {},
   "outputs": [
    {
     "name": "stdout",
     "output_type": "stream",
     "text": [
      "CPU times: user 868 ms, sys: 28.1 ms, total: 896 ms\n",
      "Wall time: 889 ms\n"
     ]
    }
   ],
   "source": [
    "%%time\n",
    "# Create some example records\n",
    "import random\n",
    "import numpy as np\n",
    "\n",
    "before_commit = []\n",
    "\n",
    "inttype = np.int32\n",
    "booltype = np.bool\n",
    "_ndets = 35\n",
    "\n",
    "for i in range(0,8500):\n",
    "    # Random filler values\n",
    "    _DetNum = np.array([x for x in range(1,_ndets)], dtype=inttype)\n",
    "    _DetType = np.random.randint(low=1, high=9, size=_ndets, dtype=inttype)\n",
    "    _Enable = np.random.choice(a=[False, True], size=_ndets).astype(booltype)\n",
    "    \n",
    "    # Check conversions to binary buffer\n",
    "    bin1 = _DetNum.tobytes('C')\n",
    "    #assert(all(_DetNum == np.frombuffer(bin1, dtype=inttype)))\n",
    "    \n",
    "    bin2 = _DetType.tobytes('C')\n",
    "    #assert(all(_DetType == np.frombuffer(bin2, dtype=inttype)))\n",
    "    \n",
    "    bin3 = _Enable.tobytes('C')\n",
    "    #assert(all(_Enable == np.frombuffer(bin3, dtype=booltype)))\n",
    "    \n",
    "    new_record = RecordModel(SeriesNumber=1005,\n",
    "                             EventNumber=500+i,\n",
    "                             NDetectors=_ndets,\n",
    "                             DetNum=bin1,\n",
    "                             DetType=bin2,\n",
    "                             Enable=bin3)\n",
    "    before_commit.append(new_record)\n",
    "\n"
   ]
  },
  {
   "cell_type": "code",
   "execution_count": 9,
   "metadata": {},
   "outputs": [
    {
     "name": "stdout",
     "output_type": "stream",
     "text": [
      "8500\n"
     ]
    }
   ],
   "source": [
    "# how many objects?\n",
    "\n",
    "print(len(before_commit))"
   ]
  },
  {
   "cell_type": "code",
   "execution_count": 10,
   "metadata": {
    "scrolled": false
   },
   "outputs": [
    {
     "name": "stdout",
     "output_type": "stream",
     "text": [
      "2020-06-08 21:48:41,743 INFO sqlalchemy.engine.base.Engine BEGIN (implicit)\n",
      "2020-06-08 21:48:41,914 INFO sqlalchemy.engine.base.Engine INSERT INTO records (\"SeriesNumber\", \"EventNumber\", \"NDetectors\", \"DetNum\", \"DetType\", \"Enable\") VALUES (?, ?, ?, ?, ?, ?)\n",
      "2020-06-08 21:48:41,915 INFO sqlalchemy.engine.base.Engine ((1005, 500, 35, <memory at 0x7f84a123af40>, <memory at 0x7f84a0018340>, <memory at 0x7f84a0018280>), (1005, 501, 35, <memory at 0x7f84a0018100>, <memory at 0x7f84a00181c0>, <memory at 0x7f84a0018640>), (1005, 502, 35, <memory at 0x7f84a0018400>, <memory at 0x7f84a00184c0>, <memory at 0x7f84a0018580>), (1005, 503, 35, <memory at 0x7f84a0018700>, <memory at 0x7f84a00187c0>, <memory at 0x7f84a0018880>), (1005, 504, 35, <memory at 0x7f84a0018940>, <memory at 0x7f84a0018a00>, <memory at 0x7f84a0018ac0>), (1005, 505, 35, <memory at 0x7f84a0018b80>, <memory at 0x7f84a0018c40>, <memory at 0x7f84a0018d00>), (1005, 506, 35, <memory at 0x7f84a0018dc0>, <memory at 0x7f84a0018e80>, <memory at 0x7f84a0018f40>), (1005, 507, 35, <memory at 0x7f8481c02040>, <memory at 0x7f8481c02100>, <memory at 0x7f8481c021c0>)  ... displaying 10 of 8500 total bound parameter sets ...  (1005, 8998, 35, <memory at 0x7f84813bf040>, <memory at 0x7f84813bf100>, <memory at 0x7f84813bf1c0>), (1005, 8999, 35, <memory at 0x7f84813bf280>, <memory at 0x7f84813bf340>, <memory at 0x7f84813bf400>))\n",
      "2020-06-08 21:48:41,978 INFO sqlalchemy.engine.base.Engine COMMIT\n",
      "CPU times: user 233 ms, sys: 12.3 ms, total: 245 ms\n",
      "Wall time: 266 ms\n"
     ]
    }
   ],
   "source": [
    "%%time\n",
    "# Add them to the session and save session to DB, aka \"Database Transaction\"\n",
    "\n",
    "session.bulk_save_objects(before_commit)\n",
    "session.commit()"
   ]
  },
  {
   "cell_type": "markdown",
   "metadata": {},
   "source": [
    "What's our resulting filesize? (n.b. Size is in \"MebiBytes\" [MiB])."
   ]
  },
  {
   "cell_type": "code",
   "execution_count": 11,
   "metadata": {},
   "outputs": [
    {
     "name": "stdout",
     "output_type": "stream",
     "text": [
      "DB Size is  2.9805490176  [MiB]\n"
     ]
    }
   ],
   "source": [
    "import os\n",
    "\n",
    "bytecount = os.stat('example_enc-arr.db').st_size\n",
    "print(\"DB Size is \", (bytecount * (9.537E-7)), \" [MiB]\")"
   ]
  },
  {
   "cell_type": "markdown",
   "metadata": {},
   "source": [
    "Now, let's close the session and disconnect the engine."
   ]
  },
  {
   "cell_type": "markdown",
   "metadata": {},
   "source": [
    "Now, we will reconnect to the database file with a proper session, perform a query to load some records, and store in a pandas dataframe. "
   ]
  }
 ],
 "metadata": {
  "kernelspec": {
   "display_name": "Python 3",
   "language": "python",
   "name": "python3"
  },
  "language_info": {
   "codemirror_mode": {
    "name": "ipython",
    "version": 3
   },
   "file_extension": ".py",
   "mimetype": "text/x-python",
   "name": "python",
   "nbconvert_exporter": "python",
   "pygments_lexer": "ipython3",
   "version": "3.8.3"
  }
 },
 "nbformat": 4,
 "nbformat_minor": 4
}
