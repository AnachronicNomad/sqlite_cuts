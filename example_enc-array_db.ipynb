{
 "cells": [
  {
   "cell_type": "code",
   "execution_count": 1,
   "metadata": {},
   "outputs": [],
   "source": [
    "# First, check if the DB file for this notebook exists and remove it. \n",
    "import os\n",
    "\n",
    "if os.path.exists('example_enc-arr.db'):\n",
    "    os.remove('example_enc-arr.db')"
   ]
  },
  {
   "cell_type": "code",
   "execution_count": 2,
   "metadata": {},
   "outputs": [],
   "source": [
    "import sqlite3\n",
    "from sqlalchemy import create_engine\n",
    "\n",
    "engine = create_engine('sqlite:///example_enc-arr.db', echo=True)"
   ]
  },
  {
   "cell_type": "markdown",
   "metadata": {},
   "source": [
    "For example, use a \"Declarative Base\" object to use an \"object-model\" approach.  We can defined Tables by themselves using SQLAlchemy, but we're not going to do that right now.  "
   ]
  },
  {
   "cell_type": "code",
   "execution_count": 3,
   "metadata": {},
   "outputs": [],
   "source": [
    "from sqlalchemy.ext.declarative import declarative_base\n",
    "Base = declarative_base()"
   ]
  },
  {
   "cell_type": "markdown",
   "metadata": {},
   "source": [
    "This uses the Declarative style to create a \"records\" object with the fields we want.  "
   ]
  },
  {
   "cell_type": "markdown",
   "metadata": {},
   "source": [
    "The Datatypes are chosen by the SQLite \"dialect\" and its specification, as per [here](https://docs.sqlalchemy.org/en/13/dialects/sqlite.html#sqlite-data-types)."
   ]
  },
  {
   "cell_type": "code",
   "execution_count": 4,
   "metadata": {},
   "outputs": [],
   "source": [
    "from sqlalchemy import Column\n",
    "from sqlalchemy.types import Integer, BigInteger, Boolean, BLOB\n",
    "\n",
    "## If we wanted to be super specific on SQLite datatypes...\n",
    "#from sqlalchemy.dialects.sqlite import INTEGER, BOOLEAN, SMALLINT, BLOB\n",
    "\n",
    "class RecordModel(Base):\n",
    "    __tablename__ = 'records'\n",
    "    \n",
    "    recordID = Column(Integer,\n",
    "                      primary_key=True)\n",
    "    \n",
    "    SeriesNumber = Column(BigInteger, \n",
    "                          index=True, \n",
    "                          #unique=True, \n",
    "                          nullable=False)\n",
    "    \n",
    "    EventNumber = Column(BigInteger,\n",
    "                         index=True,\n",
    "                         unique=True,\n",
    "                         nullable=False)\n",
    "    \n",
    "    NDetectors = Column(Integer,\n",
    "                        nullable=False)\n",
    "    \n",
    "    DetNum = Column(BLOB)\n",
    "    DetType = Column(BLOB)\n",
    "    Enable = Column(BLOB)\n",
    "    \n",
    "    \n",
    "    def __repr__(self):\n",
    "        return \"<Record(recordID='%s', SeriesNumber='%s', EventNumber=''%s')\" % (\n",
    "                    self.recordID, self.SeriesNumber, self.EventNumber)\n",
    "    \n",
    "        "
   ]
  },
  {
   "cell_type": "markdown",
   "metadata": {},
   "source": [
    "Using the declarative style automatically creates the indexed \"metadata schema\" for the database, which will speed up queries and make the database easily sharable.  "
   ]
  },
  {
   "cell_type": "code",
   "execution_count": 5,
   "metadata": {
    "scrolled": true
   },
   "outputs": [
    {
     "data": {
      "text/plain": [
       "Table('records', MetaData(bind=None), Column('recordID', Integer(), table=<records>, primary_key=True, nullable=False), Column('SeriesNumber', BigInteger(), table=<records>, nullable=False), Column('EventNumber', BigInteger(), table=<records>, nullable=False), Column('NDetectors', Integer(), table=<records>, nullable=False), Column('DetNum', BLOB(), table=<records>), Column('DetType', BLOB(), table=<records>), Column('Enable', BLOB(), table=<records>), schema=None)"
      ]
     },
     "execution_count": 5,
     "metadata": {},
     "output_type": "execute_result"
    }
   ],
   "source": [
    "RecordModel.__table__"
   ]
  },
  {
   "cell_type": "markdown",
   "metadata": {},
   "source": [
    "Now let's actually create the SQLite database:"
   ]
  },
  {
   "cell_type": "code",
   "execution_count": 6,
   "metadata": {
    "scrolled": true
   },
   "outputs": [
    {
     "name": "stdout",
     "output_type": "stream",
     "text": [
      "2020-06-08 21:23:17,562 INFO sqlalchemy.engine.base.Engine SELECT CAST('test plain returns' AS VARCHAR(60)) AS anon_1\n",
      "2020-06-08 21:23:17,564 INFO sqlalchemy.engine.base.Engine ()\n",
      "2020-06-08 21:23:17,566 INFO sqlalchemy.engine.base.Engine SELECT CAST('test unicode returns' AS VARCHAR(60)) AS anon_1\n",
      "2020-06-08 21:23:17,567 INFO sqlalchemy.engine.base.Engine ()\n",
      "2020-06-08 21:23:17,569 INFO sqlalchemy.engine.base.Engine PRAGMA main.table_info(\"records\")\n",
      "2020-06-08 21:23:17,570 INFO sqlalchemy.engine.base.Engine ()\n",
      "2020-06-08 21:23:17,572 INFO sqlalchemy.engine.base.Engine PRAGMA temp.table_info(\"records\")\n",
      "2020-06-08 21:23:17,573 INFO sqlalchemy.engine.base.Engine ()\n",
      "2020-06-08 21:23:17,575 INFO sqlalchemy.engine.base.Engine \n",
      "CREATE TABLE records (\n",
      "\t\"recordID\" INTEGER NOT NULL, \n",
      "\t\"SeriesNumber\" BIGINT NOT NULL, \n",
      "\t\"EventNumber\" BIGINT NOT NULL, \n",
      "\t\"NDetectors\" INTEGER NOT NULL, \n",
      "\t\"DetNum\" BLOB, \n",
      "\t\"DetType\" BLOB, \n",
      "\t\"Enable\" BLOB, \n",
      "\tPRIMARY KEY (\"recordID\")\n",
      ")\n",
      "\n",
      "\n",
      "2020-06-08 21:23:17,575 INFO sqlalchemy.engine.base.Engine ()\n",
      "2020-06-08 21:23:17,592 INFO sqlalchemy.engine.base.Engine COMMIT\n",
      "2020-06-08 21:23:17,593 INFO sqlalchemy.engine.base.Engine CREATE UNIQUE INDEX \"ix_records_EventNumber\" ON records (\"EventNumber\")\n",
      "2020-06-08 21:23:17,594 INFO sqlalchemy.engine.base.Engine ()\n",
      "2020-06-08 21:23:17,598 INFO sqlalchemy.engine.base.Engine COMMIT\n",
      "2020-06-08 21:23:17,599 INFO sqlalchemy.engine.base.Engine CREATE INDEX \"ix_records_SeriesNumber\" ON records (\"SeriesNumber\")\n",
      "2020-06-08 21:23:17,600 INFO sqlalchemy.engine.base.Engine ()\n",
      "2020-06-08 21:23:17,604 INFO sqlalchemy.engine.base.Engine COMMIT\n",
      "CPU times: user 31.9 ms, sys: 1.78 ms, total: 33.7 ms\n",
      "Wall time: 45.7 ms\n"
     ]
    }
   ],
   "source": [
    "%%time\n",
    "Base.metadata.create_all(engine)"
   ]
  },
  {
   "cell_type": "markdown",
   "metadata": {},
   "source": [
    "Let's create some example entries, and insert them in the database."
   ]
  },
  {
   "cell_type": "code",
   "execution_count": 7,
   "metadata": {},
   "outputs": [],
   "source": [
    "from sqlalchemy.orm import sessionmaker\n",
    "\n",
    "# Use a 'factory' for creating a connection to our database.\n",
    "Session = sessionmaker(bind=engine)\n",
    "\n",
    "# Create actual session object we will use to interact with DB\n",
    "session = Session()"
   ]
  },
  {
   "cell_type": "code",
   "execution_count": 8,
   "metadata": {},
   "outputs": [
    {
     "name": "stdout",
     "output_type": "stream",
     "text": [
      "CPU times: user 66.8 ms, sys: 12.4 ms, total: 79.2 ms\n",
      "Wall time: 79.9 ms\n"
     ]
    }
   ],
   "source": [
    "%%time\n",
    "# Create some example records\n",
    "import random\n",
    "import numpy as np\n",
    "\n",
    "before_commit = []\n",
    "\n",
    "inttype = np.int32\n",
    "booltype = np.bool\n",
    "_ndets = 35\n",
    "\n",
    "for i in range(0,10):\n",
    "    # Random filler values\n",
    "    _DetNum = np.array([x for x in range(1,_ndets)], dtype=inttype)\n",
    "    _DetType = np.random.randint(low=1, high=9, size=_ndets, dtype=inttype)\n",
    "    _Enable = np.random.choice(a=[False, True], size=_ndets).astype(booltype)\n",
    "    \n",
    "    # Check conversions to binary buffer\n",
    "    bin1 = _DetNum.tobytes('C')\n",
    "    assert(all(_DetNum == np.frombuffer(bin1, dtype=inttype)))\n",
    "    \n",
    "    bin2 = _DetType.tobytes('C')\n",
    "    assert(all(_DetType == np.frombuffer(bin2, dtype=inttype)))\n",
    "    \n",
    "    bin3 = _Enable.tobytes('C')\n",
    "    assert(all(_Enable == np.frombuffer(bin3, dtype=booltype)))\n",
    "    \n",
    "    new_record = RecordModel(SeriesNumber=1005,\n",
    "                             EventNumber=500+i,\n",
    "                             NDetectors=_ndets,\n",
    "                             DetNum=bin1,\n",
    "                             DetType=bin2,\n",
    "                             Enable=bin3)\n",
    "    before_commit.append(new_record)\n",
    "\n"
   ]
  },
  {
   "cell_type": "code",
   "execution_count": 9,
   "metadata": {
    "scrolled": false
   },
   "outputs": [
    {
     "name": "stdout",
     "output_type": "stream",
     "text": [
      "2020-06-08 21:23:30,663 INFO sqlalchemy.engine.base.Engine BEGIN (implicit)\n",
      "2020-06-08 21:23:30,664 INFO sqlalchemy.engine.base.Engine INSERT INTO records (\"SeriesNumber\", \"EventNumber\", \"NDetectors\", \"DetNum\", \"DetType\", \"Enable\") VALUES (?, ?, ?, ?, ?, ?)\n",
      "2020-06-08 21:23:30,665 INFO sqlalchemy.engine.base.Engine ((1005, 500, 35, <memory at 0x7f53fc72ff40>, <memory at 0x7f53fc41a280>, <memory at 0x7f53fc41a1c0>), (1005, 501, 35, <memory at 0x7f53fc41a340>, <memory at 0x7f53fc41a040>, <memory at 0x7f53fc41a640>), (1005, 502, 35, <memory at 0x7f53fc41a400>, <memory at 0x7f53fc41a4c0>, <memory at 0x7f53fc41a580>), (1005, 503, 35, <memory at 0x7f53fc41a700>, <memory at 0x7f53fc41a7c0>, <memory at 0x7f53fc41a880>), (1005, 504, 35, <memory at 0x7f53fc41a940>, <memory at 0x7f53fc41aa00>, <memory at 0x7f53fc41aac0>), (1005, 505, 35, <memory at 0x7f53fc41ab80>, <memory at 0x7f53fc41ac40>, <memory at 0x7f53fc41ad00>), (1005, 506, 35, <memory at 0x7f53fc41adc0>, <memory at 0x7f53fc41ae80>, <memory at 0x7f53fc41af40>), (1005, 507, 35, <memory at 0x7f53fc428040>, <memory at 0x7f53fc428100>, <memory at 0x7f53fc4281c0>), (1005, 508, 35, <memory at 0x7f53fc428280>, <memory at 0x7f53fc428340>, <memory at 0x7f53fc428400>), (1005, 509, 35, <memory at 0x7f53fc4284c0>, <memory at 0x7f53fc428580>, <memory at 0x7f53fc428640>))\n",
      "2020-06-08 21:23:30,667 INFO sqlalchemy.engine.base.Engine COMMIT\n",
      "CPU times: user 1.15 ms, sys: 6.98 ms, total: 8.13 ms\n",
      "Wall time: 31.7 ms\n"
     ]
    }
   ],
   "source": [
    "%%time\n",
    "# Add them to the session and save session to DB, aka \"Database Transaction\"\n",
    "\n",
    "session.bulk_save_objects(before_commit)\n",
    "session.commit()"
   ]
  },
  {
   "cell_type": "markdown",
   "metadata": {},
   "source": [
    "What's our resulting filesize? (n.b. Size is in \"MebiBytes\" [MiB])."
   ]
  },
  {
   "cell_type": "code",
   "execution_count": 11,
   "metadata": {},
   "outputs": [
    {
     "name": "stdout",
     "output_type": "stream",
     "text": [
      "DB Size is  0.0156254208  [MiB]\n"
     ]
    }
   ],
   "source": [
    "import os\n",
    "\n",
    "bytecount = os.stat('example_enc-arr.db').st_size\n",
    "print(\"DB Size is \", (bytecount * (9.537E-7)), \" [MiB]\")"
   ]
  },
  {
   "cell_type": "markdown",
   "metadata": {},
   "source": [
    "Now, let's close the session and disconnect the engine."
   ]
  },
  {
   "cell_type": "markdown",
   "metadata": {},
   "source": [
    "Now, we will reconnect to the database file with a proper session, perform a query to load some records, and store in a pandas dataframe. "
   ]
  }
 ],
 "metadata": {
  "kernelspec": {
   "display_name": "Python 3",
   "language": "python",
   "name": "python3"
  },
  "language_info": {
   "codemirror_mode": {
    "name": "ipython",
    "version": 3
   },
   "file_extension": ".py",
   "mimetype": "text/x-python",
   "name": "python",
   "nbconvert_exporter": "python",
   "pygments_lexer": "ipython3",
   "version": "3.8.3"
  }
 },
 "nbformat": 4,
 "nbformat_minor": 4
}
